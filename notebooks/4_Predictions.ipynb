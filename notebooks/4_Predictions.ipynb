{
 "cells": [
  {
   "cell_type": "markdown",
   "id": "e0edbd14",
   "metadata": {},
   "source": [
    "#  Predictions\n",
    "---"
   ]
  },
  {
   "cell_type": "markdown",
   "id": "f1015a11",
   "metadata": {},
   "source": [
    "## 0. Constants"
   ]
  },
  {
   "cell_type": "code",
   "execution_count": 132,
   "id": "bb45680f",
   "metadata": {},
   "outputs": [],
   "source": [
    "LOG_DATA_DETAILS_PKL    =  \"../artifacts/data_details.pkl\"\n",
    "LOG_MODEL_PATH = \"../models/model.pkl\"\n",
    "\n",
    "PREDICTION_DATA_PATH = \"../data/raw/prediction.csv\""
   ]
  },
  {
   "cell_type": "markdown",
   "id": "5c164c09",
   "metadata": {},
   "source": [
    "---\n",
    "# 1. Imports"
   ]
  },
  {
   "cell_type": "code",
   "execution_count": 189,
   "id": "b3d3190d",
   "metadata": {},
   "outputs": [],
   "source": [
    "import os\n",
    "import pickle\n",
    "import numpy as np\n",
    "import pandas as pd\n",
    "import matplotlib.pyplot as plt\n",
    "import seaborn as sns\n",
    "\n",
    "%matplotlib inline\n",
    "sns.set_theme(style=\"darkgrid\", palette=\"bright\")\n",
    "\n",
    "from sklearn.impute import SimpleImputer \n",
    "from sklearn.preprocessing import OrdinalEncoder, StandardScaler\n",
    "from sklearn.compose import ColumnTransformer\n",
    "import xgboost\n",
    "from xgboost import XGBRegressor\n",
    "from sklearn.metrics import mean_squared_error, r2_score"
   ]
  },
  {
   "cell_type": "code",
   "execution_count": 134,
   "id": "4b4067db",
   "metadata": {},
   "outputs": [],
   "source": [
    "with open(LOG_MODEL_PATH, \"rb\") as f:\n",
    "    model = pickle.load(f)"
   ]
  },
  {
   "cell_type": "code",
   "execution_count": 135,
   "id": "fb713b72",
   "metadata": {},
   "outputs": [
    {
     "data": {
      "text/plain": [
       "{'model_description': 'XGBRegressor + Hyperparamter tuning',\n",
       " 'model_details': 'XGBRegressor(base_score=None, booster=None, callbacks=None,\\n             colsample_bylevel=None, colsample_bynode=None,\\n             colsample_bytree=None, early_stopping_rounds=None,\\n             enable_categorical=False, eval_metric=None, feature_types=None,\\n             gamma=None, gpu_id=None, grow_policy=None, importance_type=None,\\n             interaction_constraints=None, learning_rate=0.1, max_bin=None,\\n             max_cat_threshold=None, max_cat_to_onehot=None,\\n             max_delta_step=None, max_depth=7, max_leaves=None,\\n             min_child_weight=None, missing=nan, monotone_constraints=None,\\n             n_estimators=1000, n_jobs=None, num_parallel_tree=None,\\n             predictor=None, random_state=None, ...)',\n",
       " 'model_object': XGBRegressor(base_score=None, booster=None, callbacks=None,\n",
       "              colsample_bylevel=None, colsample_bynode=None,\n",
       "              colsample_bytree=None, early_stopping_rounds=None,\n",
       "              enable_categorical=False, eval_metric=None, feature_types=None,\n",
       "              gamma=None, gpu_id=None, grow_policy=None, importance_type=None,\n",
       "              interaction_constraints=None, learning_rate=0.1, max_bin=None,\n",
       "              max_cat_threshold=None, max_cat_to_onehot=None,\n",
       "              max_delta_step=None, max_depth=7, max_leaves=None,\n",
       "              min_child_weight=None, missing=nan, monotone_constraints=None,\n",
       "              n_estimators=1000, n_jobs=None, num_parallel_tree=None,\n",
       "              predictor=None, random_state=None, ...)}"
      ]
     },
     "execution_count": 135,
     "metadata": {},
     "output_type": "execute_result"
    }
   ],
   "source": [
    "model"
   ]
  },
  {
   "cell_type": "code",
   "execution_count": 136,
   "id": "192e85c0",
   "metadata": {},
   "outputs": [],
   "source": [
    "with open(LOG_DATA_DETAILS_PKL, 'rb') as data_file:\n",
    "    data_details = pickle.load(data_file)"
   ]
  },
  {
   "cell_type": "code",
   "execution_count": 137,
   "id": "61217478",
   "metadata": {},
   "outputs": [
    {
     "data": {
      "text/plain": [
       "{'train_data_path': '../data/processed/train.csv',\n",
       " 'test_data_path': '../data/processed/test.csv',\n",
       " 'features_names': ['Store',\n",
       "  'Dept',\n",
       "  'IsHoliday',\n",
       "  'Temperature',\n",
       "  'Fuel_Price',\n",
       "  'MarkDown1',\n",
       "  'MarkDown2',\n",
       "  'MarkDown3',\n",
       "  'MarkDown4',\n",
       "  'MarkDown5',\n",
       "  'CPI',\n",
       "  'Unemployment',\n",
       "  'Type',\n",
       "  'Size',\n",
       "  'Month',\n",
       "  'Year',\n",
       "  'WeekOfYear'],\n",
       " 'top_5_features': ['Dept', 'Size', 'Store', 'WeekOfYear', 'Type'],\n",
       " 'target_name': 'Weekly_Sales'}"
      ]
     },
     "execution_count": 137,
     "metadata": {},
     "output_type": "execute_result"
    }
   ],
   "source": [
    "data_details"
   ]
  },
  {
   "cell_type": "code",
   "execution_count": 138,
   "id": "593bf294",
   "metadata": {},
   "outputs": [
    {
     "data": {
      "text/html": [
       "<div>\n",
       "<style scoped>\n",
       "    .dataframe tbody tr th:only-of-type {\n",
       "        vertical-align: middle;\n",
       "    }\n",
       "\n",
       "    .dataframe tbody tr th {\n",
       "        vertical-align: top;\n",
       "    }\n",
       "\n",
       "    .dataframe thead th {\n",
       "        text-align: right;\n",
       "    }\n",
       "</style>\n",
       "<table border=\"1\" class=\"dataframe\">\n",
       "  <thead>\n",
       "    <tr style=\"text-align: right;\">\n",
       "      <th></th>\n",
       "      <th>Store</th>\n",
       "      <th>Date</th>\n",
       "      <th>Temperature</th>\n",
       "      <th>Fuel_Price</th>\n",
       "      <th>MarkDown1</th>\n",
       "      <th>MarkDown2</th>\n",
       "      <th>MarkDown3</th>\n",
       "      <th>MarkDown4</th>\n",
       "      <th>MarkDown5</th>\n",
       "      <th>CPI</th>\n",
       "      <th>Unemployment</th>\n",
       "      <th>IsHoliday</th>\n",
       "      <th>Dept</th>\n",
       "      <th>Type</th>\n",
       "      <th>Size</th>\n",
       "    </tr>\n",
       "  </thead>\n",
       "  <tbody>\n",
       "    <tr>\n",
       "      <th>0</th>\n",
       "      <td>1</td>\n",
       "      <td>2012-11-05</td>\n",
       "      <td>73.77</td>\n",
       "      <td>3.688</td>\n",
       "      <td>8351.4</td>\n",
       "      <td>NaN</td>\n",
       "      <td>10.52</td>\n",
       "      <td>2443.14</td>\n",
       "      <td>3127.88</td>\n",
       "      <td>221.725663</td>\n",
       "      <td>7.143</td>\n",
       "      <td>False</td>\n",
       "      <td>1</td>\n",
       "      <td>A</td>\n",
       "      <td>151315</td>\n",
       "    </tr>\n",
       "    <tr>\n",
       "      <th>1</th>\n",
       "      <td>1</td>\n",
       "      <td>2012-11-05</td>\n",
       "      <td>73.77</td>\n",
       "      <td>3.688</td>\n",
       "      <td>8351.4</td>\n",
       "      <td>NaN</td>\n",
       "      <td>10.52</td>\n",
       "      <td>2443.14</td>\n",
       "      <td>3127.88</td>\n",
       "      <td>221.725663</td>\n",
       "      <td>7.143</td>\n",
       "      <td>False</td>\n",
       "      <td>2</td>\n",
       "      <td>A</td>\n",
       "      <td>151315</td>\n",
       "    </tr>\n",
       "    <tr>\n",
       "      <th>2</th>\n",
       "      <td>1</td>\n",
       "      <td>2012-11-05</td>\n",
       "      <td>73.77</td>\n",
       "      <td>3.688</td>\n",
       "      <td>8351.4</td>\n",
       "      <td>NaN</td>\n",
       "      <td>10.52</td>\n",
       "      <td>2443.14</td>\n",
       "      <td>3127.88</td>\n",
       "      <td>221.725663</td>\n",
       "      <td>7.143</td>\n",
       "      <td>False</td>\n",
       "      <td>3</td>\n",
       "      <td>A</td>\n",
       "      <td>151315</td>\n",
       "    </tr>\n",
       "    <tr>\n",
       "      <th>3</th>\n",
       "      <td>1</td>\n",
       "      <td>2012-11-05</td>\n",
       "      <td>73.77</td>\n",
       "      <td>3.688</td>\n",
       "      <td>8351.4</td>\n",
       "      <td>NaN</td>\n",
       "      <td>10.52</td>\n",
       "      <td>2443.14</td>\n",
       "      <td>3127.88</td>\n",
       "      <td>221.725663</td>\n",
       "      <td>7.143</td>\n",
       "      <td>False</td>\n",
       "      <td>4</td>\n",
       "      <td>A</td>\n",
       "      <td>151315</td>\n",
       "    </tr>\n",
       "    <tr>\n",
       "      <th>4</th>\n",
       "      <td>1</td>\n",
       "      <td>2012-11-05</td>\n",
       "      <td>73.77</td>\n",
       "      <td>3.688</td>\n",
       "      <td>8351.4</td>\n",
       "      <td>NaN</td>\n",
       "      <td>10.52</td>\n",
       "      <td>2443.14</td>\n",
       "      <td>3127.88</td>\n",
       "      <td>221.725663</td>\n",
       "      <td>7.143</td>\n",
       "      <td>False</td>\n",
       "      <td>5</td>\n",
       "      <td>A</td>\n",
       "      <td>151315</td>\n",
       "    </tr>\n",
       "  </tbody>\n",
       "</table>\n",
       "</div>"
      ],
      "text/plain": [
       "   Store        Date  Temperature  Fuel_Price  MarkDown1  MarkDown2  \\\n",
       "0      1  2012-11-05        73.77       3.688     8351.4        NaN   \n",
       "1      1  2012-11-05        73.77       3.688     8351.4        NaN   \n",
       "2      1  2012-11-05        73.77       3.688     8351.4        NaN   \n",
       "3      1  2012-11-05        73.77       3.688     8351.4        NaN   \n",
       "4      1  2012-11-05        73.77       3.688     8351.4        NaN   \n",
       "\n",
       "   MarkDown3  MarkDown4  MarkDown5         CPI  Unemployment  IsHoliday  Dept  \\\n",
       "0      10.52    2443.14    3127.88  221.725663         7.143      False     1   \n",
       "1      10.52    2443.14    3127.88  221.725663         7.143      False     2   \n",
       "2      10.52    2443.14    3127.88  221.725663         7.143      False     3   \n",
       "3      10.52    2443.14    3127.88  221.725663         7.143      False     4   \n",
       "4      10.52    2443.14    3127.88  221.725663         7.143      False     5   \n",
       "\n",
       "  Type    Size  \n",
       "0    A  151315  \n",
       "1    A  151315  \n",
       "2    A  151315  \n",
       "3    A  151315  \n",
       "4    A  151315  "
      ]
     },
     "execution_count": 138,
     "metadata": {},
     "output_type": "execute_result"
    }
   ],
   "source": [
    "prediction_df = pd.read_csv(PREDICTION_DATA_PATH)\n",
    "prediction_df.head()"
   ]
  },
  {
   "cell_type": "code",
   "execution_count": 139,
   "id": "5da527a1",
   "metadata": {},
   "outputs": [
    {
     "data": {
      "text/plain": [
       "(126578, 15)"
      ]
     },
     "execution_count": 139,
     "metadata": {},
     "output_type": "execute_result"
    }
   ],
   "source": [
    "prediction_df.shape"
   ]
  },
  {
   "cell_type": "code",
   "execution_count": 201,
   "id": "06d5a3ad",
   "metadata": {},
   "outputs": [
    {
     "data": {
      "text/plain": [
       "(34875, 219622)"
      ]
     },
     "execution_count": 201,
     "metadata": {},
     "output_type": "execute_result"
    }
   ],
   "source": [
    "prediction_df.Size.min(), prediction_df.Size.max()"
   ]
  },
  {
   "cell_type": "markdown",
   "id": "3361e050",
   "metadata": {},
   "source": [
    "---\n",
    "## 2. Prediction Data Processing"
   ]
  },
  {
   "cell_type": "code",
   "execution_count": 140,
   "id": "359188f7",
   "metadata": {},
   "outputs": [
    {
     "name": "stderr",
     "output_type": "stream",
     "text": [
      "C:\\Users\\MR\\AppData\\Local\\Temp\\ipykernel_30076\\3170508384.py:7: FutureWarning: Series.dt.weekofyear and Series.dt.week have been deprecated. Please use Series.dt.isocalendar().week instead.\n",
      "  X[\"WeekOfYear\"] = X.Date.dt.weekofyear\n"
     ]
    }
   ],
   "source": [
    "#Date column processing\n",
    "X = prediction_df.copy()\n",
    "\n",
    "X[\"Date\"] = pd.to_datetime(X[\"Date\"])\n",
    "X[\"Month\"] = X.Date.dt.month\n",
    "X[\"Year\"] = X.Date.dt.year\n",
    "X[\"WeekOfYear\"] = X.Date.dt.weekofyear\n",
    "X = X.drop(\"Date\", axis=1)"
   ]
  },
  {
   "cell_type": "code",
   "execution_count": 141,
   "id": "206aa7eb",
   "metadata": {},
   "outputs": [],
   "source": [
    "markdown_cols = [\"MarkDown1\", \"MarkDown2\", \"MarkDown3\", \"MarkDown4\", \"MarkDown5\"]\n",
    "\n",
    "#Impute Markdown of Train data\n",
    "X[markdown_cols] = X[markdown_cols].interpolate(limit_direction=\"both\")"
   ]
  },
  {
   "cell_type": "code",
   "execution_count": 142,
   "id": "4e040348",
   "metadata": {},
   "outputs": [],
   "source": [
    "#Create ColumnTransformer for preprocessing\n",
    "\n",
    "num_features = [\"Temperature\", \"Fuel_Price\", \"CPI\", \"Unemployment\"]\n",
    "cat_features = [\"Type\", \"IsHoliday\"]\n",
    "\n",
    "preprocessor = ColumnTransformer(\n",
    "    transformers=[\n",
    "        ('num', SimpleImputer(strategy=\"mean\"), num_features),\n",
    "        ('cat', OrdinalEncoder(), cat_features)])"
   ]
  },
  {
   "cell_type": "code",
   "execution_count": 143,
   "id": "957d5526",
   "metadata": {},
   "outputs": [],
   "source": [
    "imputed_X = pd.DataFrame(preprocessor.fit_transform(X),\n",
    "                        columns = num_features+cat_features)"
   ]
  },
  {
   "cell_type": "code",
   "execution_count": 144,
   "id": "784cff90",
   "metadata": {},
   "outputs": [],
   "source": [
    "imputed_X = pd.concat([X.drop(num_features+cat_features, axis=1), imputed_X], axis=1)"
   ]
  },
  {
   "cell_type": "code",
   "execution_count": 145,
   "id": "c6e0654b",
   "metadata": {},
   "outputs": [
    {
     "data": {
      "text/html": [
       "<div>\n",
       "<style scoped>\n",
       "    .dataframe tbody tr th:only-of-type {\n",
       "        vertical-align: middle;\n",
       "    }\n",
       "\n",
       "    .dataframe tbody tr th {\n",
       "        vertical-align: top;\n",
       "    }\n",
       "\n",
       "    .dataframe thead th {\n",
       "        text-align: right;\n",
       "    }\n",
       "</style>\n",
       "<table border=\"1\" class=\"dataframe\">\n",
       "  <thead>\n",
       "    <tr style=\"text-align: right;\">\n",
       "      <th></th>\n",
       "      <th>Store</th>\n",
       "      <th>MarkDown1</th>\n",
       "      <th>MarkDown2</th>\n",
       "      <th>MarkDown3</th>\n",
       "      <th>MarkDown4</th>\n",
       "      <th>MarkDown5</th>\n",
       "      <th>Dept</th>\n",
       "      <th>Size</th>\n",
       "      <th>Month</th>\n",
       "      <th>Year</th>\n",
       "      <th>WeekOfYear</th>\n",
       "      <th>Temperature</th>\n",
       "      <th>Fuel_Price</th>\n",
       "      <th>CPI</th>\n",
       "      <th>Unemployment</th>\n",
       "      <th>Type</th>\n",
       "      <th>IsHoliday</th>\n",
       "    </tr>\n",
       "  </thead>\n",
       "  <tbody>\n",
       "    <tr>\n",
       "      <th>0</th>\n",
       "      <td>1</td>\n",
       "      <td>8351.4</td>\n",
       "      <td>292.1</td>\n",
       "      <td>10.52</td>\n",
       "      <td>2443.14</td>\n",
       "      <td>3127.88</td>\n",
       "      <td>1</td>\n",
       "      <td>151315</td>\n",
       "      <td>11</td>\n",
       "      <td>2012</td>\n",
       "      <td>45</td>\n",
       "      <td>73.77</td>\n",
       "      <td>3.688</td>\n",
       "      <td>221.725663</td>\n",
       "      <td>7.143</td>\n",
       "      <td>0.0</td>\n",
       "      <td>0.0</td>\n",
       "    </tr>\n",
       "    <tr>\n",
       "      <th>1</th>\n",
       "      <td>1</td>\n",
       "      <td>8351.4</td>\n",
       "      <td>292.1</td>\n",
       "      <td>10.52</td>\n",
       "      <td>2443.14</td>\n",
       "      <td>3127.88</td>\n",
       "      <td>2</td>\n",
       "      <td>151315</td>\n",
       "      <td>11</td>\n",
       "      <td>2012</td>\n",
       "      <td>45</td>\n",
       "      <td>73.77</td>\n",
       "      <td>3.688</td>\n",
       "      <td>221.725663</td>\n",
       "      <td>7.143</td>\n",
       "      <td>0.0</td>\n",
       "      <td>0.0</td>\n",
       "    </tr>\n",
       "    <tr>\n",
       "      <th>2</th>\n",
       "      <td>1</td>\n",
       "      <td>8351.4</td>\n",
       "      <td>292.1</td>\n",
       "      <td>10.52</td>\n",
       "      <td>2443.14</td>\n",
       "      <td>3127.88</td>\n",
       "      <td>3</td>\n",
       "      <td>151315</td>\n",
       "      <td>11</td>\n",
       "      <td>2012</td>\n",
       "      <td>45</td>\n",
       "      <td>73.77</td>\n",
       "      <td>3.688</td>\n",
       "      <td>221.725663</td>\n",
       "      <td>7.143</td>\n",
       "      <td>0.0</td>\n",
       "      <td>0.0</td>\n",
       "    </tr>\n",
       "    <tr>\n",
       "      <th>3</th>\n",
       "      <td>1</td>\n",
       "      <td>8351.4</td>\n",
       "      <td>292.1</td>\n",
       "      <td>10.52</td>\n",
       "      <td>2443.14</td>\n",
       "      <td>3127.88</td>\n",
       "      <td>4</td>\n",
       "      <td>151315</td>\n",
       "      <td>11</td>\n",
       "      <td>2012</td>\n",
       "      <td>45</td>\n",
       "      <td>73.77</td>\n",
       "      <td>3.688</td>\n",
       "      <td>221.725663</td>\n",
       "      <td>7.143</td>\n",
       "      <td>0.0</td>\n",
       "      <td>0.0</td>\n",
       "    </tr>\n",
       "    <tr>\n",
       "      <th>4</th>\n",
       "      <td>1</td>\n",
       "      <td>8351.4</td>\n",
       "      <td>292.1</td>\n",
       "      <td>10.52</td>\n",
       "      <td>2443.14</td>\n",
       "      <td>3127.88</td>\n",
       "      <td>5</td>\n",
       "      <td>151315</td>\n",
       "      <td>11</td>\n",
       "      <td>2012</td>\n",
       "      <td>45</td>\n",
       "      <td>73.77</td>\n",
       "      <td>3.688</td>\n",
       "      <td>221.725663</td>\n",
       "      <td>7.143</td>\n",
       "      <td>0.0</td>\n",
       "      <td>0.0</td>\n",
       "    </tr>\n",
       "  </tbody>\n",
       "</table>\n",
       "</div>"
      ],
      "text/plain": [
       "   Store  MarkDown1  MarkDown2  MarkDown3  MarkDown4  MarkDown5  Dept    Size  \\\n",
       "0      1     8351.4      292.1      10.52    2443.14    3127.88     1  151315   \n",
       "1      1     8351.4      292.1      10.52    2443.14    3127.88     2  151315   \n",
       "2      1     8351.4      292.1      10.52    2443.14    3127.88     3  151315   \n",
       "3      1     8351.4      292.1      10.52    2443.14    3127.88     4  151315   \n",
       "4      1     8351.4      292.1      10.52    2443.14    3127.88     5  151315   \n",
       "\n",
       "   Month  Year  WeekOfYear  Temperature  Fuel_Price         CPI  Unemployment  \\\n",
       "0     11  2012          45        73.77       3.688  221.725663         7.143   \n",
       "1     11  2012          45        73.77       3.688  221.725663         7.143   \n",
       "2     11  2012          45        73.77       3.688  221.725663         7.143   \n",
       "3     11  2012          45        73.77       3.688  221.725663         7.143   \n",
       "4     11  2012          45        73.77       3.688  221.725663         7.143   \n",
       "\n",
       "   Type  IsHoliday  \n",
       "0   0.0        0.0  \n",
       "1   0.0        0.0  \n",
       "2   0.0        0.0  \n",
       "3   0.0        0.0  \n",
       "4   0.0        0.0  "
      ]
     },
     "execution_count": 145,
     "metadata": {},
     "output_type": "execute_result"
    }
   ],
   "source": [
    "imputed_X.head()"
   ]
  },
  {
   "cell_type": "markdown",
   "id": "e61c8e19",
   "metadata": {},
   "source": [
    "---\n",
    "# 3. Predictions"
   ]
  },
  {
   "cell_type": "code",
   "execution_count": 146,
   "id": "2c556be6",
   "metadata": {},
   "outputs": [],
   "source": [
    "xgb = model[\"model_object\"]"
   ]
  },
  {
   "cell_type": "code",
   "execution_count": 147,
   "id": "b5ae5875",
   "metadata": {},
   "outputs": [],
   "source": [
    "scaler = StandardScaler()\n",
    "scaled_X = pd.DataFrame(scaler.fit_transform(imputed_X), columns=imputed_X.columns)"
   ]
  },
  {
   "cell_type": "code",
   "execution_count": 148,
   "id": "01caa254",
   "metadata": {},
   "outputs": [
    {
     "data": {
      "text/html": [
       "<div>\n",
       "<style scoped>\n",
       "    .dataframe tbody tr th:only-of-type {\n",
       "        vertical-align: middle;\n",
       "    }\n",
       "\n",
       "    .dataframe tbody tr th {\n",
       "        vertical-align: top;\n",
       "    }\n",
       "\n",
       "    .dataframe thead th {\n",
       "        text-align: right;\n",
       "    }\n",
       "</style>\n",
       "<table border=\"1\" class=\"dataframe\">\n",
       "  <thead>\n",
       "    <tr style=\"text-align: right;\">\n",
       "      <th></th>\n",
       "      <th>Store</th>\n",
       "      <th>Dept</th>\n",
       "      <th>IsHoliday</th>\n",
       "      <th>Temperature</th>\n",
       "      <th>Fuel_Price</th>\n",
       "      <th>MarkDown1</th>\n",
       "      <th>MarkDown2</th>\n",
       "      <th>MarkDown3</th>\n",
       "      <th>MarkDown4</th>\n",
       "      <th>MarkDown5</th>\n",
       "      <th>CPI</th>\n",
       "      <th>Unemployment</th>\n",
       "      <th>Type</th>\n",
       "      <th>Size</th>\n",
       "      <th>Month</th>\n",
       "      <th>Year</th>\n",
       "      <th>WeekOfYear</th>\n",
       "    </tr>\n",
       "  </thead>\n",
       "  <tbody>\n",
       "    <tr>\n",
       "      <th>0</th>\n",
       "      <td>-1.675334</td>\n",
       "      <td>-1.483512</td>\n",
       "      <td>-0.29277</td>\n",
       "      <td>1.006472</td>\n",
       "      <td>0.368907</td>\n",
       "      <td>0.088354</td>\n",
       "      <td>-0.368507</td>\n",
       "      <td>-0.1654</td>\n",
       "      <td>-0.064185</td>\n",
       "      <td>-0.030943</td>\n",
       "      <td>1.334413</td>\n",
       "      <td>0.195705</td>\n",
       "      <td>-0.89806</td>\n",
       "      <td>0.280569</td>\n",
       "      <td>1.178251</td>\n",
       "      <td>-1.936492</td>\n",
       "      <td>1.128687</td>\n",
       "    </tr>\n",
       "    <tr>\n",
       "      <th>1</th>\n",
       "      <td>-1.675334</td>\n",
       "      <td>-1.450335</td>\n",
       "      <td>-0.29277</td>\n",
       "      <td>1.006472</td>\n",
       "      <td>0.368907</td>\n",
       "      <td>0.088354</td>\n",
       "      <td>-0.368507</td>\n",
       "      <td>-0.1654</td>\n",
       "      <td>-0.064185</td>\n",
       "      <td>-0.030943</td>\n",
       "      <td>1.334413</td>\n",
       "      <td>0.195705</td>\n",
       "      <td>-0.89806</td>\n",
       "      <td>0.280569</td>\n",
       "      <td>1.178251</td>\n",
       "      <td>-1.936492</td>\n",
       "      <td>1.128687</td>\n",
       "    </tr>\n",
       "    <tr>\n",
       "      <th>2</th>\n",
       "      <td>-1.675334</td>\n",
       "      <td>-1.417158</td>\n",
       "      <td>-0.29277</td>\n",
       "      <td>1.006472</td>\n",
       "      <td>0.368907</td>\n",
       "      <td>0.088354</td>\n",
       "      <td>-0.368507</td>\n",
       "      <td>-0.1654</td>\n",
       "      <td>-0.064185</td>\n",
       "      <td>-0.030943</td>\n",
       "      <td>1.334413</td>\n",
       "      <td>0.195705</td>\n",
       "      <td>-0.89806</td>\n",
       "      <td>0.280569</td>\n",
       "      <td>1.178251</td>\n",
       "      <td>-1.936492</td>\n",
       "      <td>1.128687</td>\n",
       "    </tr>\n",
       "    <tr>\n",
       "      <th>3</th>\n",
       "      <td>-1.675334</td>\n",
       "      <td>-1.383981</td>\n",
       "      <td>-0.29277</td>\n",
       "      <td>1.006472</td>\n",
       "      <td>0.368907</td>\n",
       "      <td>0.088354</td>\n",
       "      <td>-0.368507</td>\n",
       "      <td>-0.1654</td>\n",
       "      <td>-0.064185</td>\n",
       "      <td>-0.030943</td>\n",
       "      <td>1.334413</td>\n",
       "      <td>0.195705</td>\n",
       "      <td>-0.89806</td>\n",
       "      <td>0.280569</td>\n",
       "      <td>1.178251</td>\n",
       "      <td>-1.936492</td>\n",
       "      <td>1.128687</td>\n",
       "    </tr>\n",
       "    <tr>\n",
       "      <th>4</th>\n",
       "      <td>-1.675334</td>\n",
       "      <td>-1.350804</td>\n",
       "      <td>-0.29277</td>\n",
       "      <td>1.006472</td>\n",
       "      <td>0.368907</td>\n",
       "      <td>0.088354</td>\n",
       "      <td>-0.368507</td>\n",
       "      <td>-0.1654</td>\n",
       "      <td>-0.064185</td>\n",
       "      <td>-0.030943</td>\n",
       "      <td>1.334413</td>\n",
       "      <td>0.195705</td>\n",
       "      <td>-0.89806</td>\n",
       "      <td>0.280569</td>\n",
       "      <td>1.178251</td>\n",
       "      <td>-1.936492</td>\n",
       "      <td>1.128687</td>\n",
       "    </tr>\n",
       "  </tbody>\n",
       "</table>\n",
       "</div>"
      ],
      "text/plain": [
       "      Store      Dept  IsHoliday  Temperature  Fuel_Price  MarkDown1  \\\n",
       "0 -1.675334 -1.483512   -0.29277     1.006472    0.368907   0.088354   \n",
       "1 -1.675334 -1.450335   -0.29277     1.006472    0.368907   0.088354   \n",
       "2 -1.675334 -1.417158   -0.29277     1.006472    0.368907   0.088354   \n",
       "3 -1.675334 -1.383981   -0.29277     1.006472    0.368907   0.088354   \n",
       "4 -1.675334 -1.350804   -0.29277     1.006472    0.368907   0.088354   \n",
       "\n",
       "   MarkDown2  MarkDown3  MarkDown4  MarkDown5       CPI  Unemployment  \\\n",
       "0  -0.368507    -0.1654  -0.064185  -0.030943  1.334413      0.195705   \n",
       "1  -0.368507    -0.1654  -0.064185  -0.030943  1.334413      0.195705   \n",
       "2  -0.368507    -0.1654  -0.064185  -0.030943  1.334413      0.195705   \n",
       "3  -0.368507    -0.1654  -0.064185  -0.030943  1.334413      0.195705   \n",
       "4  -0.368507    -0.1654  -0.064185  -0.030943  1.334413      0.195705   \n",
       "\n",
       "      Type      Size     Month      Year  WeekOfYear  \n",
       "0 -0.89806  0.280569  1.178251 -1.936492    1.128687  \n",
       "1 -0.89806  0.280569  1.178251 -1.936492    1.128687  \n",
       "2 -0.89806  0.280569  1.178251 -1.936492    1.128687  \n",
       "3 -0.89806  0.280569  1.178251 -1.936492    1.128687  \n",
       "4 -0.89806  0.280569  1.178251 -1.936492    1.128687  "
      ]
     },
     "execution_count": 148,
     "metadata": {},
     "output_type": "execute_result"
    }
   ],
   "source": [
    "scaled_X = scaled_X[data_details[\"features_names\"]]\n",
    "scaled_X.head()"
   ]
  },
  {
   "cell_type": "code",
   "execution_count": 149,
   "id": "a2ffe796",
   "metadata": {},
   "outputs": [],
   "source": [
    "#Get predictions\n",
    "preds = xgb.predict(scaled_X)"
   ]
  },
  {
   "cell_type": "code",
   "execution_count": 150,
   "id": "453e8893",
   "metadata": {},
   "outputs": [],
   "source": [
    "predicted_sales = pd.Series(preds, \n",
    "                            name=\"Predicted_Sales\", \n",
    "                            index = scaled_X.index)\n",
    "\n",
    "final_X = pd.concat([imputed_X, predicted_sales], axis=1)"
   ]
  },
  {
   "cell_type": "markdown",
   "id": "f6e93a2a",
   "metadata": {},
   "source": [
    "## 4. Inights from Predictions"
   ]
  },
  {
   "cell_type": "markdown",
   "id": "de914d85",
   "metadata": {},
   "source": [
    "### 4.1 Department-wise Predicted Sales"
   ]
  },
  {
   "cell_type": "code",
   "execution_count": 162,
   "id": "b2a0e949",
   "metadata": {},
   "outputs": [],
   "source": [
    "#groupby store & dept & sum the predicted sales\n",
    "sales_by_dept = final_X.groupby([\"Store\", \"Dept\"]).agg({\"Predicted_Sales\":\"sum\"}).sort_values(\"Predicted_Sales\", ascending=False)\n",
    "#convert Predicted_Sales to be in Millions $\n",
    "sales_by_dept = sales_by_dept.div(1000000, axis=0)\n",
    "sales_by_dept = sales_by_dept.reset_index()"
   ]
  },
  {
   "cell_type": "code",
   "execution_count": 156,
   "id": "6a29a780",
   "metadata": {},
   "outputs": [
    {
     "data": {
      "text/plain": [
       "Text(0.5, 1.0, 'Bottom 10 departments by Predicted_Sales')"
      ]
     },
     "execution_count": 156,
     "metadata": {},
     "output_type": "execute_result"
    },
    {
     "data": {
      "image/png": "[encoded data removed]",
      "text/plain": [
       "<Figure size 1600x800 with 2 Axes>"
      ]
     },
     "metadata": {},
     "output_type": "display_data"
    }
   ],
   "source": [
    "#Top 10 departments by Predicted_Sales Vs Bottom 10 departments by Predicted_Sales\n",
    "fig, ax = plt.subplots(1,2, figsize= (16,8))\n",
    "\n",
    "plt.subplot(1,2,1)\n",
    "sns.barplot(sales_by_dept[:10], x=\"Dept\", y=\"Predicted_Sales\", hue=\"Store\")\n",
    "plt.title(\"Top 10 departments by Predicted_Sales\", fontsize=16)\n",
    "\n",
    "plt.subplot(1,2,2)\n",
    "sns.barplot(sales_by_dept[-10:], x=\"Dept\", y=\"Predicted_Sales\", hue=\"Store\")\n",
    "plt.title(\"Bottom 10 departments by Predicted_Sales\", fontsize=16)\n",
    "\n",
    "# fig.tight_layout()"
   ]
  },
  {
   "cell_type": "markdown",
   "id": "bf3e6c0f",
   "metadata": {},
   "source": [
    ">**Departments 93 & 96 of multiple stores are prospected to achieve the HIGHEST sales for the next year with revenues around 5 million $.**\n",
    "\n",
    ">**Departments 79, 78 & 77 of multiple stores are prospected to achieve the LOWEST sales for the next year  with losses range from 1/4 to 1/2 million $.**"
   ]
  },
  {
   "cell_type": "markdown",
   "id": "06a5eb50",
   "metadata": {},
   "source": [
    "### 4.2 Store-wise Predicted Sales"
   ]
  },
  {
   "cell_type": "code",
   "execution_count": 163,
   "id": "1c32372d",
   "metadata": {},
   "outputs": [],
   "source": [
    "#groupby store & dept & sum the predicted sales\n",
    "sales_by_store = final_X.groupby([\"Store\"]).agg({\"Predicted_Sales\":\"sum\"}).sort_values(\"Predicted_Sales\", ascending=False)\n",
    "#convert Predicted_Sales to be in Millions $\n",
    "sales_by_store = sales_by_store.div(1000000, axis=0)\n",
    "sales_by_store = sales_by_store.reset_index()"
   ]
  },
  {
   "cell_type": "code",
   "execution_count": 166,
   "id": "e0f819d8",
   "metadata": {
    "scrolled": true
   },
   "outputs": [
    {
     "data": {
      "text/html": [
       "<div>\n",
       "<style scoped>\n",
       "    .dataframe tbody tr th:only-of-type {\n",
       "        vertical-align: middle;\n",
       "    }\n",
       "\n",
       "    .dataframe tbody tr th {\n",
       "        vertical-align: top;\n",
       "    }\n",
       "\n",
       "    .dataframe thead th {\n",
       "        text-align: right;\n",
       "    }\n",
       "</style>\n",
       "<table border=\"1\" class=\"dataframe\">\n",
       "  <thead>\n",
       "    <tr style=\"text-align: right;\">\n",
       "      <th></th>\n",
       "      <th>Store</th>\n",
       "      <th>Predicted_Sales</th>\n",
       "    </tr>\n",
       "  </thead>\n",
       "  <tbody>\n",
       "    <tr>\n",
       "      <th>0</th>\n",
       "      <td>13</td>\n",
       "      <td>83.851160</td>\n",
       "    </tr>\n",
       "    <tr>\n",
       "      <th>1</th>\n",
       "      <td>20</td>\n",
       "      <td>81.356440</td>\n",
       "    </tr>\n",
       "    <tr>\n",
       "      <th>2</th>\n",
       "      <td>2</td>\n",
       "      <td>78.767272</td>\n",
       "    </tr>\n",
       "    <tr>\n",
       "      <th>3</th>\n",
       "      <td>14</td>\n",
       "      <td>78.721312</td>\n",
       "    </tr>\n",
       "    <tr>\n",
       "      <th>4</th>\n",
       "      <td>4</td>\n",
       "      <td>74.094920</td>\n",
       "    </tr>\n",
       "    <tr>\n",
       "      <th>5</th>\n",
       "      <td>27</td>\n",
       "      <td>70.699872</td>\n",
       "    </tr>\n",
       "    <tr>\n",
       "      <th>6</th>\n",
       "      <td>6</td>\n",
       "      <td>70.667400</td>\n",
       "    </tr>\n",
       "    <tr>\n",
       "      <th>7</th>\n",
       "      <td>24</td>\n",
       "      <td>69.268808</td>\n",
       "    </tr>\n",
       "    <tr>\n",
       "      <th>8</th>\n",
       "      <td>10</td>\n",
       "      <td>69.179224</td>\n",
       "    </tr>\n",
       "    <tr>\n",
       "      <th>9</th>\n",
       "      <td>19</td>\n",
       "      <td>66.110212</td>\n",
       "    </tr>\n",
       "    <tr>\n",
       "      <th>10</th>\n",
       "      <td>1</td>\n",
       "      <td>62.254064</td>\n",
       "    </tr>\n",
       "    <tr>\n",
       "      <th>11</th>\n",
       "      <td>15</td>\n",
       "      <td>61.970956</td>\n",
       "    </tr>\n",
       "    <tr>\n",
       "      <th>12</th>\n",
       "      <td>31</td>\n",
       "      <td>59.744308</td>\n",
       "    </tr>\n",
       "    <tr>\n",
       "      <th>13</th>\n",
       "      <td>39</td>\n",
       "      <td>58.746236</td>\n",
       "    </tr>\n",
       "    <tr>\n",
       "      <th>14</th>\n",
       "      <td>32</td>\n",
       "      <td>56.004444</td>\n",
       "    </tr>\n",
       "    <tr>\n",
       "      <th>15</th>\n",
       "      <td>11</td>\n",
       "      <td>54.450684</td>\n",
       "    </tr>\n",
       "    <tr>\n",
       "      <th>16</th>\n",
       "      <td>23</td>\n",
       "      <td>54.238088</td>\n",
       "    </tr>\n",
       "    <tr>\n",
       "      <th>17</th>\n",
       "      <td>41</td>\n",
       "      <td>51.478576</td>\n",
       "    </tr>\n",
       "    <tr>\n",
       "      <th>18</th>\n",
       "      <td>28</td>\n",
       "      <td>50.319396</td>\n",
       "    </tr>\n",
       "    <tr>\n",
       "      <th>19</th>\n",
       "      <td>9</td>\n",
       "      <td>46.661104</td>\n",
       "    </tr>\n",
       "    <tr>\n",
       "      <th>20</th>\n",
       "      <td>12</td>\n",
       "      <td>40.327692</td>\n",
       "    </tr>\n",
       "    <tr>\n",
       "      <th>21</th>\n",
       "      <td>26</td>\n",
       "      <td>40.088188</td>\n",
       "    </tr>\n",
       "    <tr>\n",
       "      <th>22</th>\n",
       "      <td>40</td>\n",
       "      <td>39.887440</td>\n",
       "    </tr>\n",
       "    <tr>\n",
       "      <th>23</th>\n",
       "      <td>34</td>\n",
       "      <td>39.608868</td>\n",
       "    </tr>\n",
       "    <tr>\n",
       "      <th>24</th>\n",
       "      <td>8</td>\n",
       "      <td>37.238200</td>\n",
       "    </tr>\n",
       "    <tr>\n",
       "      <th>25</th>\n",
       "      <td>18</td>\n",
       "      <td>36.515200</td>\n",
       "    </tr>\n",
       "    <tr>\n",
       "      <th>26</th>\n",
       "      <td>17</td>\n",
       "      <td>36.020476</td>\n",
       "    </tr>\n",
       "    <tr>\n",
       "      <th>27</th>\n",
       "      <td>35</td>\n",
       "      <td>35.837072</td>\n",
       "    </tr>\n",
       "    <tr>\n",
       "      <th>28</th>\n",
       "      <td>22</td>\n",
       "      <td>35.819096</td>\n",
       "    </tr>\n",
       "    <tr>\n",
       "      <th>29</th>\n",
       "      <td>45</td>\n",
       "      <td>30.608914</td>\n",
       "    </tr>\n",
       "    <tr>\n",
       "      <th>30</th>\n",
       "      <td>21</td>\n",
       "      <td>30.022206</td>\n",
       "    </tr>\n",
       "    <tr>\n",
       "      <th>31</th>\n",
       "      <td>25</td>\n",
       "      <td>28.385364</td>\n",
       "    </tr>\n",
       "    <tr>\n",
       "      <th>32</th>\n",
       "      <td>42</td>\n",
       "      <td>25.684546</td>\n",
       "    </tr>\n",
       "    <tr>\n",
       "      <th>33</th>\n",
       "      <td>43</td>\n",
       "      <td>25.197298</td>\n",
       "    </tr>\n",
       "    <tr>\n",
       "      <th>34</th>\n",
       "      <td>37</td>\n",
       "      <td>24.016074</td>\n",
       "    </tr>\n",
       "    <tr>\n",
       "      <th>35</th>\n",
       "      <td>7</td>\n",
       "      <td>23.020874</td>\n",
       "    </tr>\n",
       "    <tr>\n",
       "      <th>36</th>\n",
       "      <td>29</td>\n",
       "      <td>22.060372</td>\n",
       "    </tr>\n",
       "    <tr>\n",
       "      <th>37</th>\n",
       "      <td>16</td>\n",
       "      <td>20.688656</td>\n",
       "    </tr>\n",
       "    <tr>\n",
       "      <th>38</th>\n",
       "      <td>38</td>\n",
       "      <td>19.355910</td>\n",
       "    </tr>\n",
       "    <tr>\n",
       "      <th>39</th>\n",
       "      <td>30</td>\n",
       "      <td>18.725346</td>\n",
       "    </tr>\n",
       "    <tr>\n",
       "      <th>40</th>\n",
       "      <td>36</td>\n",
       "      <td>17.964296</td>\n",
       "    </tr>\n",
       "    <tr>\n",
       "      <th>41</th>\n",
       "      <td>3</td>\n",
       "      <td>17.530782</td>\n",
       "    </tr>\n",
       "    <tr>\n",
       "      <th>42</th>\n",
       "      <td>44</td>\n",
       "      <td>14.620517</td>\n",
       "    </tr>\n",
       "    <tr>\n",
       "      <th>43</th>\n",
       "      <td>33</td>\n",
       "      <td>13.715292</td>\n",
       "    </tr>\n",
       "    <tr>\n",
       "      <th>44</th>\n",
       "      <td>5</td>\n",
       "      <td>12.438713</td>\n",
       "    </tr>\n",
       "  </tbody>\n",
       "</table>\n",
       "</div>"
      ],
      "text/plain": [
       "    Store  Predicted_Sales\n",
       "0      13        83.851160\n",
       "1      20        81.356440\n",
       "2       2        78.767272\n",
       "3      14        78.721312\n",
       "4       4        74.094920\n",
       "5      27        70.699872\n",
       "6       6        70.667400\n",
       "7      24        69.268808\n",
       "8      10        69.179224\n",
       "9      19        66.110212\n",
       "10      1        62.254064\n",
       "11     15        61.970956\n",
       "12     31        59.744308\n",
       "13     39        58.746236\n",
       "14     32        56.004444\n",
       "15     11        54.450684\n",
       "16     23        54.238088\n",
       "17     41        51.478576\n",
       "18     28        50.319396\n",
       "19      9        46.661104\n",
       "20     12        40.327692\n",
       "21     26        40.088188\n",
       "22     40        39.887440\n",
       "23     34        39.608868\n",
       "24      8        37.238200\n",
       "25     18        36.515200\n",
       "26     17        36.020476\n",
       "27     35        35.837072\n",
       "28     22        35.819096\n",
       "29     45        30.608914\n",
       "30     21        30.022206\n",
       "31     25        28.385364\n",
       "32     42        25.684546\n",
       "33     43        25.197298\n",
       "34     37        24.016074\n",
       "35      7        23.020874\n",
       "36     29        22.060372\n",
       "37     16        20.688656\n",
       "38     38        19.355910\n",
       "39     30        18.725346\n",
       "40     36        17.964296\n",
       "41      3        17.530782\n",
       "42     44        14.620517\n",
       "43     33        13.715292\n",
       "44      5        12.438713"
      ]
     },
     "execution_count": 166,
     "metadata": {},
     "output_type": "execute_result"
    }
   ],
   "source": [
    "sales_by_store"
   ]
  },
  {
   "cell_type": "code",
   "execution_count": 186,
   "id": "ed2b9c19",
   "metadata": {},
   "outputs": [
    {
     "data": {
      "text/plain": [
       "Text(0.5, 1.0, 'Bottom 5 Stores by Predicted_Sales')"
      ]
     },
     "execution_count": 186,
     "metadata": {},
     "output_type": "execute_result"
    },
    {
     "data": {
      "image/png": "[encoded data removed]",
      "text/plain": [
       "<Figure size 1600x800 with 2 Axes>"
      ]
     },
     "metadata": {},
     "output_type": "display_data"
    }
   ],
   "source": [
    "#Top 10 departments by Predicted_Sales Vs Bottom 10 departments by Predicted_Sales\n",
    "fig, ax = plt.subplots(1,2, figsize= (16,8))\n",
    "\n",
    "plt.subplot(1,2,1)\n",
    "sns.barplot(sales_by_store, x=\"Store\", y=\"Predicted_Sales\", \n",
    "            order=sales_by_store.sort_values(\"Predicted_Sales\",ascending=True)[\"Store\"][-5:])\n",
    "\n",
    "plt.title(\"Top 5 Stores by Predicted_Sales\", fontsize=16)\n",
    "\n",
    "plt.subplot(1,2,2)\n",
    "sns.barplot(sales_by_store, x=\"Store\", y=\"Predicted_Sales\", \n",
    "            order=sales_by_store.sort_values(\"Predicted_Sales\",ascending=False)[\"Store\"][-5:])\n",
    "\n",
    "plt.title(\"Bottom 5 Stores by Predicted_Sales\", fontsize=16)\n",
    "\n",
    "# fig.tight_layout()"
   ]
  },
  {
   "cell_type": "markdown",
   "id": "ca72f7e7",
   "metadata": {},
   "source": [
    ">**We can see a big gap between the predicted sales for the top 5 that are above 70 million \\\\$, & the bottom 5 stores that are less than 17.5 million \\\\$ of the predicted sales .**"
   ]
  },
  {
   "cell_type": "markdown",
   "id": "d29a6b95",
   "metadata": {},
   "source": [
    "## 5. Effect of Markdowns on Sales"
   ]
  },
  {
   "cell_type": "code",
   "execution_count": 190,
   "id": "d650e9cc",
   "metadata": {},
   "outputs": [
    {
     "data": {
      "text/plain": [
       "<Figure size 1600x800 with 0 Axes>"
      ]
     },
     "metadata": {},
     "output_type": "display_data"
    },
    {
     "data": {
      "image/png": "[encoded data removed]",
      "text/plain": [
       "<Figure size 640x480 with 1 Axes>"
      ]
     },
     "metadata": {},
     "output_type": "display_data"
    }
   ],
   "source": [
    "# Plot the feature importance scores\n",
    "fig = plt.figure(figsize=(16,8))\n",
    "xgboost.plot_importance(xgb)\n",
    "plt.show()"
   ]
  },
  {
   "cell_type": "markdown",
   "id": "34250631",
   "metadata": {},
   "source": [
    ">**Markdown2 has the biggest effect on Weekly Sales among other markdowns. This indicates that Markdown2 should be considered more often to draw more sles & revenue.**"
   ]
  }
 ],
 "metadata": {
  "kernelspec": {
   "display_name": "PyTorch-CUDA118",
   "language": "python",
   "name": "pytorch-cuda118"
  },
  "language_info": {
   "codemirror_mode": {
    "name": "ipython",
    "version": 3
   },
   "file_extension": ".py",
   "mimetype": "text/x-python",
   "name": "python",
   "nbconvert_exporter": "python",
   "pygments_lexer": "ipython3",
   "version": "3.8.16"
  }
 },
 "nbformat": 4,
 "nbformat_minor": 5
}
