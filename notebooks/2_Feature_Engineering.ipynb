{
 "cells": [
  {
   "cell_type": "markdown",
   "id": "b0f1fddf",
   "metadata": {},
   "source": [
    "# Feature Engineering\n",
    "---"
   ]
  },
  {
   "cell_type": "markdown",
   "id": "e0d4a2fb",
   "metadata": {},
   "source": [
    "## 0. Constants"
   ]
  },
  {
   "cell_type": "code",
   "execution_count": 250,
   "id": "f80db11a",
   "metadata": {},
   "outputs": [],
   "source": [
    "RAW_DATA_PATH = \"../data/raw/raw.csv\"\n",
    "TRAIN_DATA_PATH = \"../data/processed/train.csv\"\n",
    "TEST_DATA_PATH = \"../data/processed/test.csv\""
   ]
  },
  {
   "cell_type": "markdown",
   "id": "10ebefd6",
   "metadata": {},
   "source": [
    "---\n",
    "## 1. Imports"
   ]
  },
  {
   "cell_type": "code",
   "execution_count": 285,
   "id": "3e6b3476",
   "metadata": {},
   "outputs": [],
   "source": [
    "import numpy as np\n",
    "import pandas as pd\n",
    "import matplotlib.pyplot as plt\n",
    "import matplotlib.dates as mdates\n",
    "import seaborn as sns\n",
    "\n",
    "pd.options.display.max_columns = 50\n",
    "%matplotlib inline\n",
    "\n",
    "from sklearn.impute import SimpleImputer \n",
    "from sklearn.model_selection import train_test_split\n",
    "from sklearn.preprocessing import OrdinalEncoder, StandardScaler\n",
    "from sklearn.feature_selection import mutual_info_regression"
   ]
  },
  {
   "cell_type": "code",
   "execution_count": 91,
   "id": "0ac4f207",
   "metadata": {},
   "outputs": [
    {
     "data": {
      "text/html": [
       "<div>\n",
       "<style scoped>\n",
       "    .dataframe tbody tr th:only-of-type {\n",
       "        vertical-align: middle;\n",
       "    }\n",
       "\n",
       "    .dataframe tbody tr th {\n",
       "        vertical-align: top;\n",
       "    }\n",
       "\n",
       "    .dataframe thead th {\n",
       "        text-align: right;\n",
       "    }\n",
       "</style>\n",
       "<table border=\"1\" class=\"dataframe\">\n",
       "  <thead>\n",
       "    <tr style=\"text-align: right;\">\n",
       "      <th></th>\n",
       "      <th>Store</th>\n",
       "      <th>Dept</th>\n",
       "      <th>Date</th>\n",
       "      <th>Weekly_Sales</th>\n",
       "      <th>IsHoliday</th>\n",
       "      <th>Temperature</th>\n",
       "      <th>Fuel_Price</th>\n",
       "      <th>MarkDown1</th>\n",
       "      <th>MarkDown2</th>\n",
       "      <th>MarkDown3</th>\n",
       "      <th>MarkDown4</th>\n",
       "      <th>MarkDown5</th>\n",
       "      <th>CPI</th>\n",
       "      <th>Unemployment</th>\n",
       "      <th>Type</th>\n",
       "      <th>Size</th>\n",
       "    </tr>\n",
       "  </thead>\n",
       "  <tbody>\n",
       "    <tr>\n",
       "      <th>0</th>\n",
       "      <td>1</td>\n",
       "      <td>1</td>\n",
       "      <td>2010-02-05</td>\n",
       "      <td>24924.50</td>\n",
       "      <td>False</td>\n",
       "      <td>NaN</td>\n",
       "      <td>NaN</td>\n",
       "      <td>NaN</td>\n",
       "      <td>NaN</td>\n",
       "      <td>NaN</td>\n",
       "      <td>NaN</td>\n",
       "      <td>NaN</td>\n",
       "      <td>NaN</td>\n",
       "      <td>NaN</td>\n",
       "      <td>A</td>\n",
       "      <td>151315</td>\n",
       "    </tr>\n",
       "    <tr>\n",
       "      <th>1</th>\n",
       "      <td>1</td>\n",
       "      <td>1</td>\n",
       "      <td>2010-02-12</td>\n",
       "      <td>46039.49</td>\n",
       "      <td>True</td>\n",
       "      <td>NaN</td>\n",
       "      <td>NaN</td>\n",
       "      <td>NaN</td>\n",
       "      <td>NaN</td>\n",
       "      <td>NaN</td>\n",
       "      <td>NaN</td>\n",
       "      <td>NaN</td>\n",
       "      <td>NaN</td>\n",
       "      <td>NaN</td>\n",
       "      <td>A</td>\n",
       "      <td>151315</td>\n",
       "    </tr>\n",
       "    <tr>\n",
       "      <th>2</th>\n",
       "      <td>1</td>\n",
       "      <td>1</td>\n",
       "      <td>2010-02-19</td>\n",
       "      <td>41595.55</td>\n",
       "      <td>False</td>\n",
       "      <td>39.93</td>\n",
       "      <td>2.514</td>\n",
       "      <td>NaN</td>\n",
       "      <td>NaN</td>\n",
       "      <td>NaN</td>\n",
       "      <td>NaN</td>\n",
       "      <td>NaN</td>\n",
       "      <td>211.289143</td>\n",
       "      <td>8.106</td>\n",
       "      <td>A</td>\n",
       "      <td>151315</td>\n",
       "    </tr>\n",
       "    <tr>\n",
       "      <th>3</th>\n",
       "      <td>1</td>\n",
       "      <td>1</td>\n",
       "      <td>2010-02-26</td>\n",
       "      <td>19403.54</td>\n",
       "      <td>False</td>\n",
       "      <td>46.63</td>\n",
       "      <td>2.561</td>\n",
       "      <td>NaN</td>\n",
       "      <td>NaN</td>\n",
       "      <td>NaN</td>\n",
       "      <td>NaN</td>\n",
       "      <td>NaN</td>\n",
       "      <td>211.319643</td>\n",
       "      <td>8.106</td>\n",
       "      <td>A</td>\n",
       "      <td>151315</td>\n",
       "    </tr>\n",
       "    <tr>\n",
       "      <th>4</th>\n",
       "      <td>1</td>\n",
       "      <td>1</td>\n",
       "      <td>2010-03-05</td>\n",
       "      <td>21827.90</td>\n",
       "      <td>False</td>\n",
       "      <td>NaN</td>\n",
       "      <td>NaN</td>\n",
       "      <td>NaN</td>\n",
       "      <td>NaN</td>\n",
       "      <td>NaN</td>\n",
       "      <td>NaN</td>\n",
       "      <td>NaN</td>\n",
       "      <td>NaN</td>\n",
       "      <td>NaN</td>\n",
       "      <td>A</td>\n",
       "      <td>151315</td>\n",
       "    </tr>\n",
       "  </tbody>\n",
       "</table>\n",
       "</div>"
      ],
      "text/plain": [
       "   Store  Dept        Date  Weekly_Sales  IsHoliday  Temperature  Fuel_Price  \\\n",
       "0      1     1  2010-02-05      24924.50      False          NaN         NaN   \n",
       "1      1     1  2010-02-12      46039.49       True          NaN         NaN   \n",
       "2      1     1  2010-02-19      41595.55      False        39.93       2.514   \n",
       "3      1     1  2010-02-26      19403.54      False        46.63       2.561   \n",
       "4      1     1  2010-03-05      21827.90      False          NaN         NaN   \n",
       "\n",
       "   MarkDown1  MarkDown2  MarkDown3  MarkDown4  MarkDown5         CPI  \\\n",
       "0        NaN        NaN        NaN        NaN        NaN         NaN   \n",
       "1        NaN        NaN        NaN        NaN        NaN         NaN   \n",
       "2        NaN        NaN        NaN        NaN        NaN  211.289143   \n",
       "3        NaN        NaN        NaN        NaN        NaN  211.319643   \n",
       "4        NaN        NaN        NaN        NaN        NaN         NaN   \n",
       "\n",
       "   Unemployment Type    Size  \n",
       "0           NaN    A  151315  \n",
       "1           NaN    A  151315  \n",
       "2         8.106    A  151315  \n",
       "3         8.106    A  151315  \n",
       "4           NaN    A  151315  "
      ]
     },
     "execution_count": 91,
     "metadata": {},
     "output_type": "execute_result"
    }
   ],
   "source": [
    "retail_df = pd.read_csv(RAW_DATA_PATH) \n",
    "retail_df.head()"
   ]
  },
  {
   "cell_type": "markdown",
   "id": "3b9d7cb6",
   "metadata": {},
   "source": [
    "## 1.1 Functions"
   ]
  },
  {
   "cell_type": "code",
   "execution_count": 145,
   "id": "bfc539e4",
   "metadata": {},
   "outputs": [],
   "source": [
    "def calculate_mi_scores(X, y, discrete_features):\n",
    "    \"\"\"Calculates Mutual Information scores of non-linear relationships between features 'X' & target 'y'. \"\"\"\n",
    "    mi_scores = mutual_info_regression(X, y, discrete_features=discrete_features)\n",
    "    mi_scores = pd.Series(mi_scores, name=\"MI Scores\", index=X.columns).sort_index(ascending=False)\n",
    "    return mi_scores"
   ]
  },
  {
   "cell_type": "markdown",
   "id": "1f56d41a",
   "metadata": {},
   "source": [
    "---\n",
    "## 2. Feature Engineering"
   ]
  },
  {
   "cell_type": "code",
   "execution_count": 92,
   "id": "9ba54f57",
   "metadata": {},
   "outputs": [
    {
     "data": {
      "text/plain": [
       "(421570, 16)"
      ]
     },
     "execution_count": 92,
     "metadata": {},
     "output_type": "execute_result"
    }
   ],
   "source": [
    "retail_df.shape"
   ]
  },
  {
   "cell_type": "code",
   "execution_count": 93,
   "id": "db2d585f",
   "metadata": {},
   "outputs": [
    {
     "data": {
      "text/plain": [
       "Store             int64\n",
       "Dept              int64\n",
       "Date             object\n",
       "Weekly_Sales    float64\n",
       "IsHoliday          bool\n",
       "Temperature     float64\n",
       "Fuel_Price      float64\n",
       "MarkDown1       float64\n",
       "MarkDown2       float64\n",
       "MarkDown3       float64\n",
       "MarkDown4       float64\n",
       "MarkDown5       float64\n",
       "CPI             float64\n",
       "Unemployment    float64\n",
       "Type             object\n",
       "Size              int64\n",
       "dtype: object"
      ]
     },
     "execution_count": 93,
     "metadata": {},
     "output_type": "execute_result"
    }
   ],
   "source": [
    "retail_df.dtypes"
   ]
  },
  {
   "cell_type": "code",
   "execution_count": 94,
   "id": "2a7b37da",
   "metadata": {},
   "outputs": [
    {
     "data": {
      "text/plain": [
       "Store                0\n",
       "Dept                 0\n",
       "Date                 0\n",
       "Weekly_Sales         0\n",
       "IsHoliday            0\n",
       "Temperature     138586\n",
       "Fuel_Price      138586\n",
       "MarkDown1       312211\n",
       "MarkDown2       333176\n",
       "MarkDown3       325015\n",
       "MarkDown4       324027\n",
       "MarkDown5       311805\n",
       "CPI             138586\n",
       "Unemployment    138586\n",
       "Type                 0\n",
       "Size                 0\n",
       "dtype: int64"
      ]
     },
     "execution_count": 94,
     "metadata": {},
     "output_type": "execute_result"
    }
   ],
   "source": [
    "retail_df.isnull().sum()"
   ]
  },
  {
   "cell_type": "markdown",
   "id": "f9bfed23",
   "metadata": {},
   "source": [
    "### Encode Date column into Year, Month & WeekOfYear columns"
   ]
  },
  {
   "cell_type": "code",
   "execution_count": 95,
   "id": "1e38a279",
   "metadata": {},
   "outputs": [],
   "source": [
    "retail_df[\"Date\"] = pd.to_datetime(retail_df[\"Date\"])"
   ]
  },
  {
   "cell_type": "code",
   "execution_count": 96,
   "id": "ff1ea400",
   "metadata": {},
   "outputs": [],
   "source": [
    "retail_df[\"Month\"]=retail_df.Date.dt.month"
   ]
  },
  {
   "cell_type": "code",
   "execution_count": 252,
   "id": "c8f8bd79",
   "metadata": {},
   "outputs": [],
   "source": [
    "retail_df[\"Year\"]=retail_df.Date.dt.year"
   ]
  },
  {
   "cell_type": "code",
   "execution_count": 253,
   "id": "ee20479a",
   "metadata": {},
   "outputs": [
    {
     "name": "stderr",
     "output_type": "stream",
     "text": [
      "C:\\Users\\MR\\AppData\\Local\\Temp\\ipykernel_29928\\3639321428.py:1: FutureWarning: Series.dt.weekofyear and Series.dt.week have been deprecated. Please use Series.dt.isocalendar().week instead.\n",
      "  retail_df[\"WeekOfYear\"]=retail_df.Date.dt.weekofyear\n"
     ]
    }
   ],
   "source": [
    "retail_df[\"WeekOfYear\"]=retail_df.Date.dt.weekofyear"
   ]
  },
  {
   "cell_type": "code",
   "execution_count": 276,
   "id": "a527bfda",
   "metadata": {},
   "outputs": [
    {
     "data": {
      "text/html": [
       "<div>\n",
       "<style scoped>\n",
       "    .dataframe tbody tr th:only-of-type {\n",
       "        vertical-align: middle;\n",
       "    }\n",
       "\n",
       "    .dataframe tbody tr th {\n",
       "        vertical-align: top;\n",
       "    }\n",
       "\n",
       "    .dataframe thead th {\n",
       "        text-align: right;\n",
       "    }\n",
       "</style>\n",
       "<table border=\"1\" class=\"dataframe\">\n",
       "  <thead>\n",
       "    <tr style=\"text-align: right;\">\n",
       "      <th></th>\n",
       "      <th>Store</th>\n",
       "      <th>Dept</th>\n",
       "      <th>Date</th>\n",
       "      <th>Weekly_Sales</th>\n",
       "      <th>IsHoliday</th>\n",
       "      <th>Temperature</th>\n",
       "      <th>Fuel_Price</th>\n",
       "      <th>MarkDown1</th>\n",
       "      <th>MarkDown2</th>\n",
       "      <th>MarkDown3</th>\n",
       "      <th>MarkDown4</th>\n",
       "      <th>MarkDown5</th>\n",
       "      <th>CPI</th>\n",
       "      <th>Unemployment</th>\n",
       "      <th>Type</th>\n",
       "      <th>Size</th>\n",
       "      <th>Month</th>\n",
       "      <th>Year</th>\n",
       "      <th>WeekOfYear</th>\n",
       "    </tr>\n",
       "  </thead>\n",
       "  <tbody>\n",
       "    <tr>\n",
       "      <th>0</th>\n",
       "      <td>1</td>\n",
       "      <td>1</td>\n",
       "      <td>2010-02-05</td>\n",
       "      <td>24924.50</td>\n",
       "      <td>False</td>\n",
       "      <td>NaN</td>\n",
       "      <td>NaN</td>\n",
       "      <td>NaN</td>\n",
       "      <td>NaN</td>\n",
       "      <td>NaN</td>\n",
       "      <td>NaN</td>\n",
       "      <td>NaN</td>\n",
       "      <td>NaN</td>\n",
       "      <td>NaN</td>\n",
       "      <td>A</td>\n",
       "      <td>151315</td>\n",
       "      <td>2</td>\n",
       "      <td>2010</td>\n",
       "      <td>5</td>\n",
       "    </tr>\n",
       "    <tr>\n",
       "      <th>1</th>\n",
       "      <td>1</td>\n",
       "      <td>1</td>\n",
       "      <td>2010-02-12</td>\n",
       "      <td>46039.49</td>\n",
       "      <td>True</td>\n",
       "      <td>NaN</td>\n",
       "      <td>NaN</td>\n",
       "      <td>NaN</td>\n",
       "      <td>NaN</td>\n",
       "      <td>NaN</td>\n",
       "      <td>NaN</td>\n",
       "      <td>NaN</td>\n",
       "      <td>NaN</td>\n",
       "      <td>NaN</td>\n",
       "      <td>A</td>\n",
       "      <td>151315</td>\n",
       "      <td>2</td>\n",
       "      <td>2010</td>\n",
       "      <td>6</td>\n",
       "    </tr>\n",
       "    <tr>\n",
       "      <th>2</th>\n",
       "      <td>1</td>\n",
       "      <td>1</td>\n",
       "      <td>2010-02-19</td>\n",
       "      <td>41595.55</td>\n",
       "      <td>False</td>\n",
       "      <td>39.93</td>\n",
       "      <td>2.514</td>\n",
       "      <td>NaN</td>\n",
       "      <td>NaN</td>\n",
       "      <td>NaN</td>\n",
       "      <td>NaN</td>\n",
       "      <td>NaN</td>\n",
       "      <td>211.289143</td>\n",
       "      <td>8.106</td>\n",
       "      <td>A</td>\n",
       "      <td>151315</td>\n",
       "      <td>2</td>\n",
       "      <td>2010</td>\n",
       "      <td>7</td>\n",
       "    </tr>\n",
       "    <tr>\n",
       "      <th>3</th>\n",
       "      <td>1</td>\n",
       "      <td>1</td>\n",
       "      <td>2010-02-26</td>\n",
       "      <td>19403.54</td>\n",
       "      <td>False</td>\n",
       "      <td>46.63</td>\n",
       "      <td>2.561</td>\n",
       "      <td>NaN</td>\n",
       "      <td>NaN</td>\n",
       "      <td>NaN</td>\n",
       "      <td>NaN</td>\n",
       "      <td>NaN</td>\n",
       "      <td>211.319643</td>\n",
       "      <td>8.106</td>\n",
       "      <td>A</td>\n",
       "      <td>151315</td>\n",
       "      <td>2</td>\n",
       "      <td>2010</td>\n",
       "      <td>8</td>\n",
       "    </tr>\n",
       "    <tr>\n",
       "      <th>4</th>\n",
       "      <td>1</td>\n",
       "      <td>1</td>\n",
       "      <td>2010-03-05</td>\n",
       "      <td>21827.90</td>\n",
       "      <td>False</td>\n",
       "      <td>NaN</td>\n",
       "      <td>NaN</td>\n",
       "      <td>NaN</td>\n",
       "      <td>NaN</td>\n",
       "      <td>NaN</td>\n",
       "      <td>NaN</td>\n",
       "      <td>NaN</td>\n",
       "      <td>NaN</td>\n",
       "      <td>NaN</td>\n",
       "      <td>A</td>\n",
       "      <td>151315</td>\n",
       "      <td>3</td>\n",
       "      <td>2010</td>\n",
       "      <td>9</td>\n",
       "    </tr>\n",
       "  </tbody>\n",
       "</table>\n",
       "</div>"
      ],
      "text/plain": [
       "   Store  Dept       Date  Weekly_Sales  IsHoliday  Temperature  Fuel_Price  \\\n",
       "0      1     1 2010-02-05      24924.50      False          NaN         NaN   \n",
       "1      1     1 2010-02-12      46039.49       True          NaN         NaN   \n",
       "2      1     1 2010-02-19      41595.55      False        39.93       2.514   \n",
       "3      1     1 2010-02-26      19403.54      False        46.63       2.561   \n",
       "4      1     1 2010-03-05      21827.90      False          NaN         NaN   \n",
       "\n",
       "   MarkDown1  MarkDown2  MarkDown3  MarkDown4  MarkDown5         CPI  \\\n",
       "0        NaN        NaN        NaN        NaN        NaN         NaN   \n",
       "1        NaN        NaN        NaN        NaN        NaN         NaN   \n",
       "2        NaN        NaN        NaN        NaN        NaN  211.289143   \n",
       "3        NaN        NaN        NaN        NaN        NaN  211.319643   \n",
       "4        NaN        NaN        NaN        NaN        NaN         NaN   \n",
       "\n",
       "   Unemployment Type    Size  Month  Year  WeekOfYear  \n",
       "0           NaN    A  151315      2  2010           5  \n",
       "1           NaN    A  151315      2  2010           6  \n",
       "2         8.106    A  151315      2  2010           7  \n",
       "3         8.106    A  151315      2  2010           8  \n",
       "4           NaN    A  151315      3  2010           9  "
      ]
     },
     "execution_count": 276,
     "metadata": {},
     "output_type": "execute_result"
    }
   ],
   "source": [
    "retail_df.head()"
   ]
  },
  {
   "cell_type": "markdown",
   "id": "97baac8a",
   "metadata": {},
   "source": [
    "### Split data to prevent data leakage"
   ]
  },
  {
   "cell_type": "code",
   "execution_count": 255,
   "id": "95bf1e68",
   "metadata": {},
   "outputs": [],
   "source": [
    "# X = retail_df.drop(\"Weekly_Sales\", axis=1)\n",
    "# y = retail_df[\"Weekly_Sales\"]\n",
    "# X_train, X_test, y_train, y_test = train_test_split(X, y, test_size=0.2, random_state=11)\n",
    "\n",
    "X = retail_df.copy()\n",
    "X_train, X_test = train_test_split(X, test_size=0.2, random_state=11)"
   ]
  },
  {
   "cell_type": "markdown",
   "id": "942a3078",
   "metadata": {},
   "source": [
    "### Impute Temperature, Fuel price, CPI & Unemployment Columns"
   ]
  },
  {
   "cell_type": "code",
   "execution_count": 256,
   "id": "c130da92",
   "metadata": {},
   "outputs": [],
   "source": [
    "imputed_X_train = X_train.copy()\n",
    "imputed_X_test = X_test.copy()"
   ]
  },
  {
   "cell_type": "code",
   "execution_count": 257,
   "id": "4b86b6c9",
   "metadata": {},
   "outputs": [
    {
     "data": {
      "text/plain": [
       "((337256, 19), (84314, 19))"
      ]
     },
     "execution_count": 257,
     "metadata": {},
     "output_type": "execute_result"
    }
   ],
   "source": [
    "imputed_X_train.shape, imputed_X_test.shape"
   ]
  },
  {
   "cell_type": "code",
   "execution_count": 258,
   "id": "7b5db526",
   "metadata": {},
   "outputs": [],
   "source": [
    "#Impute Temperature, Fuel price, CPI & Unemployment with the mean of their respective month\n",
    "imputer = SimpleImputer(strategy='mean')\n",
    "\n",
    "null_features = [\"Temperature\", \"Fuel_Price\", \"CPI\", \"Unemployment\"]\n",
    "\n",
    "\n",
    "for month in imputed_X_train.Month.unique():\n",
    "    imputed_X_train.loc[imputed_X_train.Month == month, null_features]= imputer.fit_transform(imputed_X_train.loc[imputed_X_train.Month == month, null_features])\n"
   ]
  },
  {
   "cell_type": "code",
   "execution_count": 259,
   "id": "3350243b",
   "metadata": {},
   "outputs": [
    {
     "data": {
      "text/plain": [
       "Store                0\n",
       "Dept                 0\n",
       "Date                 0\n",
       "Weekly_Sales         0\n",
       "IsHoliday            0\n",
       "Temperature          0\n",
       "Fuel_Price           0\n",
       "MarkDown1       249770\n",
       "MarkDown2       266573\n",
       "MarkDown3       260001\n",
       "MarkDown4       259242\n",
       "MarkDown5       249441\n",
       "CPI                  0\n",
       "Unemployment         0\n",
       "Type                 0\n",
       "Size                 0\n",
       "Month                0\n",
       "Year                 0\n",
       "WeekOfYear           0\n",
       "dtype: int64"
      ]
     },
     "execution_count": 259,
     "metadata": {},
     "output_type": "execute_result"
    }
   ],
   "source": [
    "imputed_X_train.isnull().sum()"
   ]
  },
  {
   "cell_type": "code",
   "execution_count": 260,
   "id": "c9034daa",
   "metadata": {},
   "outputs": [],
   "source": [
    "#Impute test data\n",
    "for month in imputed_X_test.Month.unique():\n",
    "    imputed_X_test.loc[imputed_X_test.Month == month, null_features]= imputer.transform(imputed_X_test.loc[imputed_X_test.Month == month, null_features])\n"
   ]
  },
  {
   "cell_type": "code",
   "execution_count": 261,
   "id": "7e9a6218",
   "metadata": {},
   "outputs": [
    {
     "data": {
      "text/plain": [
       "Store               0\n",
       "Dept                0\n",
       "Date                0\n",
       "Weekly_Sales        0\n",
       "IsHoliday           0\n",
       "Temperature         0\n",
       "Fuel_Price          0\n",
       "MarkDown1       62441\n",
       "MarkDown2       66603\n",
       "MarkDown3       65014\n",
       "MarkDown4       64785\n",
       "MarkDown5       62364\n",
       "CPI                 0\n",
       "Unemployment        0\n",
       "Type                0\n",
       "Size                0\n",
       "Month               0\n",
       "Year                0\n",
       "WeekOfYear          0\n",
       "dtype: int64"
      ]
     },
     "execution_count": 261,
     "metadata": {},
     "output_type": "execute_result"
    }
   ],
   "source": [
    "imputed_X_test.isnull().sum()"
   ]
  },
  {
   "cell_type": "markdown",
   "id": "cb9dcf76",
   "metadata": {},
   "source": [
    "### Dealing with missing Markdown values"
   ]
  },
  {
   "cell_type": "code",
   "execution_count": 262,
   "id": "bd1459b0",
   "metadata": {},
   "outputs": [
    {
     "data": {
      "text/html": [
       "<div>\n",
       "<style scoped>\n",
       "    .dataframe tbody tr th:only-of-type {\n",
       "        vertical-align: middle;\n",
       "    }\n",
       "\n",
       "    .dataframe tbody tr th {\n",
       "        vertical-align: top;\n",
       "    }\n",
       "\n",
       "    .dataframe thead tr th {\n",
       "        text-align: left;\n",
       "    }\n",
       "\n",
       "    .dataframe thead tr:last-of-type th {\n",
       "        text-align: right;\n",
       "    }\n",
       "</style>\n",
       "<table border=\"1\" class=\"dataframe\">\n",
       "  <thead>\n",
       "    <tr>\n",
       "      <th></th>\n",
       "      <th colspan=\"3\" halign=\"left\">MarkDown1</th>\n",
       "      <th colspan=\"3\" halign=\"left\">MarkDown2</th>\n",
       "      <th colspan=\"3\" halign=\"left\">MarkDown3</th>\n",
       "      <th colspan=\"3\" halign=\"left\">MarkDown4</th>\n",
       "      <th colspan=\"3\" halign=\"left\">MarkDown5</th>\n",
       "    </tr>\n",
       "    <tr>\n",
       "      <th></th>\n",
       "      <th>min</th>\n",
       "      <th>mean</th>\n",
       "      <th>max</th>\n",
       "      <th>min</th>\n",
       "      <th>mean</th>\n",
       "      <th>max</th>\n",
       "      <th>min</th>\n",
       "      <th>mean</th>\n",
       "      <th>max</th>\n",
       "      <th>min</th>\n",
       "      <th>mean</th>\n",
       "      <th>max</th>\n",
       "      <th>min</th>\n",
       "      <th>mean</th>\n",
       "      <th>max</th>\n",
       "    </tr>\n",
       "    <tr>\n",
       "      <th>Month</th>\n",
       "      <th></th>\n",
       "      <th></th>\n",
       "      <th></th>\n",
       "      <th></th>\n",
       "      <th></th>\n",
       "      <th></th>\n",
       "      <th></th>\n",
       "      <th></th>\n",
       "      <th></th>\n",
       "      <th></th>\n",
       "      <th></th>\n",
       "      <th></th>\n",
       "      <th></th>\n",
       "      <th></th>\n",
       "      <th></th>\n",
       "    </tr>\n",
       "  </thead>\n",
       "  <tbody>\n",
       "    <tr>\n",
       "      <th>1</th>\n",
       "      <td>2.40</td>\n",
       "      <td>3676.757668</td>\n",
       "      <td>16432.28</td>\n",
       "      <td>-2.00</td>\n",
       "      <td>4132.196176</td>\n",
       "      <td>23438.57</td>\n",
       "      <td>0.06</td>\n",
       "      <td>97.232789</td>\n",
       "      <td>860.90</td>\n",
       "      <td>2.50</td>\n",
       "      <td>834.346023</td>\n",
       "      <td>4069.79</td>\n",
       "      <td>153.04</td>\n",
       "      <td>3119.747505</td>\n",
       "      <td>24241.12</td>\n",
       "    </tr>\n",
       "    <tr>\n",
       "      <th>2</th>\n",
       "      <td>66.87</td>\n",
       "      <td>12599.482047</td>\n",
       "      <td>41848.34</td>\n",
       "      <td>0.02</td>\n",
       "      <td>5317.959895</td>\n",
       "      <td>19179.87</td>\n",
       "      <td>0.44</td>\n",
       "      <td>21.020880</td>\n",
       "      <td>167.88</td>\n",
       "      <td>0.46</td>\n",
       "      <td>7639.314613</td>\n",
       "      <td>35364.08</td>\n",
       "      <td>537.36</td>\n",
       "      <td>5157.338665</td>\n",
       "      <td>23647.05</td>\n",
       "    </tr>\n",
       "    <tr>\n",
       "      <th>3</th>\n",
       "      <td>2.43</td>\n",
       "      <td>14087.982601</td>\n",
       "      <td>88646.76</td>\n",
       "      <td>-10.50</td>\n",
       "      <td>921.502141</td>\n",
       "      <td>8766.77</td>\n",
       "      <td>-1.00</td>\n",
       "      <td>44.575778</td>\n",
       "      <td>788.56</td>\n",
       "      <td>2.36</td>\n",
       "      <td>9614.587886</td>\n",
       "      <td>67474.85</td>\n",
       "      <td>227.12</td>\n",
       "      <td>3674.312081</td>\n",
       "      <td>24354.20</td>\n",
       "    </tr>\n",
       "    <tr>\n",
       "      <th>4</th>\n",
       "      <td>16.49</td>\n",
       "      <td>4507.276981</td>\n",
       "      <td>32124.49</td>\n",
       "      <td>-265.76</td>\n",
       "      <td>2930.094107</td>\n",
       "      <td>19610.52</td>\n",
       "      <td>-0.20</td>\n",
       "      <td>22.958393</td>\n",
       "      <td>203.99</td>\n",
       "      <td>0.87</td>\n",
       "      <td>834.993358</td>\n",
       "      <td>4162.20</td>\n",
       "      <td>284.28</td>\n",
       "      <td>3025.241480</td>\n",
       "      <td>15101.90</td>\n",
       "    </tr>\n",
       "    <tr>\n",
       "      <th>5</th>\n",
       "      <td>57.13</td>\n",
       "      <td>6537.026807</td>\n",
       "      <td>20882.50</td>\n",
       "      <td>43.00</td>\n",
       "      <td>335.279621</td>\n",
       "      <td>512.00</td>\n",
       "      <td>0.24</td>\n",
       "      <td>267.608937</td>\n",
       "      <td>1095.85</td>\n",
       "      <td>0.92</td>\n",
       "      <td>1451.862784</td>\n",
       "      <td>9506.75</td>\n",
       "      <td>419.93</td>\n",
       "      <td>3478.318029</td>\n",
       "      <td>18547.03</td>\n",
       "    </tr>\n",
       "    <tr>\n",
       "      <th>6</th>\n",
       "      <td>1.94</td>\n",
       "      <td>5534.891919</td>\n",
       "      <td>16717.38</td>\n",
       "      <td>-7.60</td>\n",
       "      <td>6499.686832</td>\n",
       "      <td>45971.43</td>\n",
       "      <td>0.01</td>\n",
       "      <td>64.774333</td>\n",
       "      <td>839.74</td>\n",
       "      <td>4.92</td>\n",
       "      <td>1705.777789</td>\n",
       "      <td>6058.60</td>\n",
       "      <td>246.46</td>\n",
       "      <td>5384.872107</td>\n",
       "      <td>85851.87</td>\n",
       "    </tr>\n",
       "    <tr>\n",
       "      <th>7</th>\n",
       "      <td>0.27</td>\n",
       "      <td>4432.169336</td>\n",
       "      <td>11481.26</td>\n",
       "      <td>-2.50</td>\n",
       "      <td>136.304700</td>\n",
       "      <td>688.66</td>\n",
       "      <td>0.01</td>\n",
       "      <td>13.793667</td>\n",
       "      <td>145.72</td>\n",
       "      <td>0.41</td>\n",
       "      <td>3542.037205</td>\n",
       "      <td>17151.91</td>\n",
       "      <td>411.08</td>\n",
       "      <td>5546.314521</td>\n",
       "      <td>105223.11</td>\n",
       "    </tr>\n",
       "    <tr>\n",
       "      <th>8</th>\n",
       "      <td>35.76</td>\n",
       "      <td>8011.844063</td>\n",
       "      <td>37707.43</td>\n",
       "      <td>-20.00</td>\n",
       "      <td>71.551946</td>\n",
       "      <td>370.35</td>\n",
       "      <td>0.00</td>\n",
       "      <td>45.760186</td>\n",
       "      <td>371.06</td>\n",
       "      <td>0.78</td>\n",
       "      <td>4186.255010</td>\n",
       "      <td>15675.98</td>\n",
       "      <td>329.61</td>\n",
       "      <td>3826.887397</td>\n",
       "      <td>17926.84</td>\n",
       "    </tr>\n",
       "    <tr>\n",
       "      <th>9</th>\n",
       "      <td>53.10</td>\n",
       "      <td>6545.818729</td>\n",
       "      <td>26306.03</td>\n",
       "      <td>1.00</td>\n",
       "      <td>42.779679</td>\n",
       "      <td>245.91</td>\n",
       "      <td>0.15</td>\n",
       "      <td>28.335714</td>\n",
       "      <td>677.64</td>\n",
       "      <td>1.50</td>\n",
       "      <td>1619.079076</td>\n",
       "      <td>11296.93</td>\n",
       "      <td>164.08</td>\n",
       "      <td>5610.689899</td>\n",
       "      <td>18054.35</td>\n",
       "    </tr>\n",
       "    <tr>\n",
       "      <th>10</th>\n",
       "      <td>18.00</td>\n",
       "      <td>3459.732638</td>\n",
       "      <td>13749.10</td>\n",
       "      <td>-7.01</td>\n",
       "      <td>68.773298</td>\n",
       "      <td>364.57</td>\n",
       "      <td>0.15</td>\n",
       "      <td>46.042053</td>\n",
       "      <td>250.60</td>\n",
       "      <td>5.94</td>\n",
       "      <td>640.190336</td>\n",
       "      <td>2421.08</td>\n",
       "      <td>180.07</td>\n",
       "      <td>2597.711262</td>\n",
       "      <td>11831.06</td>\n",
       "    </tr>\n",
       "    <tr>\n",
       "      <th>11</th>\n",
       "      <td>2.80</td>\n",
       "      <td>6112.168871</td>\n",
       "      <td>34348.14</td>\n",
       "      <td>0.00</td>\n",
       "      <td>3732.657352</td>\n",
       "      <td>44021.61</td>\n",
       "      <td>1.32</td>\n",
       "      <td>20555.740257</td>\n",
       "      <td>141630.61</td>\n",
       "      <td>3.00</td>\n",
       "      <td>1700.890034</td>\n",
       "      <td>20834.37</td>\n",
       "      <td>135.16</td>\n",
       "      <td>4238.247499</td>\n",
       "      <td>27754.23</td>\n",
       "    </tr>\n",
       "    <tr>\n",
       "      <th>12</th>\n",
       "      <td>2.42</td>\n",
       "      <td>2824.730194</td>\n",
       "      <td>8321.44</td>\n",
       "      <td>0.03</td>\n",
       "      <td>16354.576432</td>\n",
       "      <td>104519.54</td>\n",
       "      <td>0.60</td>\n",
       "      <td>703.485337</td>\n",
       "      <td>10748.31</td>\n",
       "      <td>2.00</td>\n",
       "      <td>495.038743</td>\n",
       "      <td>1772.02</td>\n",
       "      <td>153.90</td>\n",
       "      <td>3345.636537</td>\n",
       "      <td>17699.26</td>\n",
       "    </tr>\n",
       "  </tbody>\n",
       "</table>\n",
       "</div>"
      ],
      "text/plain": [
       "      MarkDown1                         MarkDown2                           \\\n",
       "            min          mean       max       min          mean        max   \n",
       "Month                                                                        \n",
       "1          2.40   3676.757668  16432.28     -2.00   4132.196176   23438.57   \n",
       "2         66.87  12599.482047  41848.34      0.02   5317.959895   19179.87   \n",
       "3          2.43  14087.982601  88646.76    -10.50    921.502141    8766.77   \n",
       "4         16.49   4507.276981  32124.49   -265.76   2930.094107   19610.52   \n",
       "5         57.13   6537.026807  20882.50     43.00    335.279621     512.00   \n",
       "6          1.94   5534.891919  16717.38     -7.60   6499.686832   45971.43   \n",
       "7          0.27   4432.169336  11481.26     -2.50    136.304700     688.66   \n",
       "8         35.76   8011.844063  37707.43    -20.00     71.551946     370.35   \n",
       "9         53.10   6545.818729  26306.03      1.00     42.779679     245.91   \n",
       "10        18.00   3459.732638  13749.10     -7.01     68.773298     364.57   \n",
       "11         2.80   6112.168871  34348.14      0.00   3732.657352   44021.61   \n",
       "12         2.42   2824.730194   8321.44      0.03  16354.576432  104519.54   \n",
       "\n",
       "      MarkDown3                          MarkDown4                         \\\n",
       "            min          mean        max       min         mean       max   \n",
       "Month                                                                       \n",
       "1          0.06     97.232789     860.90      2.50   834.346023   4069.79   \n",
       "2          0.44     21.020880     167.88      0.46  7639.314613  35364.08   \n",
       "3         -1.00     44.575778     788.56      2.36  9614.587886  67474.85   \n",
       "4         -0.20     22.958393     203.99      0.87   834.993358   4162.20   \n",
       "5          0.24    267.608937    1095.85      0.92  1451.862784   9506.75   \n",
       "6          0.01     64.774333     839.74      4.92  1705.777789   6058.60   \n",
       "7          0.01     13.793667     145.72      0.41  3542.037205  17151.91   \n",
       "8          0.00     45.760186     371.06      0.78  4186.255010  15675.98   \n",
       "9          0.15     28.335714     677.64      1.50  1619.079076  11296.93   \n",
       "10         0.15     46.042053     250.60      5.94   640.190336   2421.08   \n",
       "11         1.32  20555.740257  141630.61      3.00  1700.890034  20834.37   \n",
       "12         0.60    703.485337   10748.31      2.00   495.038743   1772.02   \n",
       "\n",
       "      MarkDown5                          \n",
       "            min         mean        max  \n",
       "Month                                    \n",
       "1        153.04  3119.747505   24241.12  \n",
       "2        537.36  5157.338665   23647.05  \n",
       "3        227.12  3674.312081   24354.20  \n",
       "4        284.28  3025.241480   15101.90  \n",
       "5        419.93  3478.318029   18547.03  \n",
       "6        246.46  5384.872107   85851.87  \n",
       "7        411.08  5546.314521  105223.11  \n",
       "8        329.61  3826.887397   17926.84  \n",
       "9        164.08  5610.689899   18054.35  \n",
       "10       180.07  2597.711262   11831.06  \n",
       "11       135.16  4238.247499   27754.23  \n",
       "12       153.90  3345.636537   17699.26  "
      ]
     },
     "execution_count": 262,
     "metadata": {},
     "output_type": "execute_result"
    }
   ],
   "source": [
    "markdown_grouped = retail_df.groupby(\"Month\").agg({\"MarkDown1\":[\"min\", \"mean\", \"max\"],\n",
    "                                                 \"MarkDown2\":[\"min\", \"mean\", \"max\"],\n",
    "                                                 \"MarkDown3\":[\"min\", \"mean\", \"max\"],\n",
    "                                                 \"MarkDown4\":[\"min\", \"mean\", \"max\"],\n",
    "                                                 \"MarkDown5\":[\"min\", \"mean\", \"max\"]})\n",
    "\n",
    "markdown_grouped"
   ]
  },
  {
   "cell_type": "markdown",
   "id": "1b1f6577",
   "metadata": {},
   "source": [
    "> **We can see that markdowns are applied with different rates over the months of the year.**\n",
    "\n",
    "> **Some markdowns are applied with higher max values in certain months than the rest of the year.**\n",
    "\n",
    ">**For the holiday months [2, 9, 11, 12], some markdowns have higher rates than others. This might imply effect on sales.**"
   ]
  },
  {
   "cell_type": "code",
   "execution_count": 263,
   "id": "c6235c43",
   "metadata": {},
   "outputs": [],
   "source": [
    "markdown_cols = [\"MarkDown1\", \"MarkDown2\", \"MarkDown3\", \"MarkDown4\", \"MarkDown5\"]\n",
    "\n",
    "#Impute Markdown of Train data\n",
    "imputed_X_train[markdown_cols] = imputed_X_train[markdown_cols].interpolate(limit_direction=\"both\")"
   ]
  },
  {
   "cell_type": "code",
   "execution_count": 264,
   "id": "36d58e51",
   "metadata": {},
   "outputs": [
    {
     "data": {
      "text/plain": [
       "Store           0\n",
       "Dept            0\n",
       "Date            0\n",
       "Weekly_Sales    0\n",
       "IsHoliday       0\n",
       "Temperature     0\n",
       "Fuel_Price      0\n",
       "MarkDown1       0\n",
       "MarkDown2       0\n",
       "MarkDown3       0\n",
       "MarkDown4       0\n",
       "MarkDown5       0\n",
       "CPI             0\n",
       "Unemployment    0\n",
       "Type            0\n",
       "Size            0\n",
       "Month           0\n",
       "Year            0\n",
       "WeekOfYear      0\n",
       "dtype: int64"
      ]
     },
     "execution_count": 264,
     "metadata": {},
     "output_type": "execute_result"
    }
   ],
   "source": [
    "imputed_X_train.isnull().sum()"
   ]
  },
  {
   "cell_type": "code",
   "execution_count": 265,
   "id": "141771d7",
   "metadata": {},
   "outputs": [],
   "source": [
    "#Impute Markdown of Test data\n",
    "imputed_X_test[markdown_cols] = imputed_X_test[markdown_cols].interpolate(limit_direction=\"both\")"
   ]
  },
  {
   "cell_type": "code",
   "execution_count": 266,
   "id": "4f950395",
   "metadata": {},
   "outputs": [
    {
     "data": {
      "text/plain": [
       "Store           0\n",
       "Dept            0\n",
       "Date            0\n",
       "Weekly_Sales    0\n",
       "IsHoliday       0\n",
       "Temperature     0\n",
       "Fuel_Price      0\n",
       "MarkDown1       0\n",
       "MarkDown2       0\n",
       "MarkDown3       0\n",
       "MarkDown4       0\n",
       "MarkDown5       0\n",
       "CPI             0\n",
       "Unemployment    0\n",
       "Type            0\n",
       "Size            0\n",
       "Month           0\n",
       "Year            0\n",
       "WeekOfYear      0\n",
       "dtype: int64"
      ]
     },
     "execution_count": 266,
     "metadata": {},
     "output_type": "execute_result"
    }
   ],
   "source": [
    "imputed_X_test.isnull().sum()"
   ]
  },
  {
   "cell_type": "markdown",
   "id": "66fde066",
   "metadata": {},
   "source": [
    "### Encoding \"Type\" & \"IsHoliday\" columns"
   ]
  },
  {
   "cell_type": "code",
   "execution_count": 267,
   "id": "d790f330",
   "metadata": {},
   "outputs": [],
   "source": [
    "encoder = OrdinalEncoder()\n",
    "\n",
    "encoding_cols = [\"Type\", \"IsHoliday\"]\n",
    "\n",
    "# Encode Train data\n",
    "imputed_X_train[encoding_cols] = encoder.fit_transform(imputed_X_train[encoding_cols])\n",
    "\n",
    "# for col in encoding_cols:\n",
    "#     imputed_X_train[col] = encoder.fit_transform(imputed_X_train[col])"
   ]
  },
  {
   "cell_type": "code",
   "execution_count": 268,
   "id": "1c836177",
   "metadata": {},
   "outputs": [],
   "source": [
    "#Encode Test data   \n",
    "imputed_X_test[encoding_cols] = encoder.fit_transform(imputed_X_test[encoding_cols])\n",
    "\n",
    "# for col in encoding_cols:\n",
    "#     imputed_X_test[col] = encoder.fit_transform(imputed_X_test[col])"
   ]
  },
  {
   "cell_type": "markdown",
   "id": "2aa0bd8d",
   "metadata": {},
   "source": [
    "### Check correlation between features & target"
   ]
  },
  {
   "cell_type": "code",
   "execution_count": 269,
   "id": "fed7d8b2",
   "metadata": {},
   "outputs": [
    {
     "name": "stderr",
     "output_type": "stream",
     "text": [
      "C:\\Users\\MR\\AppData\\Local\\Temp\\ipykernel_29928\\417409678.py:1: FutureWarning: The default value of numeric_only in DataFrame.corr is deprecated. In a future version, it will default to False. Select only valid columns or specify the value of numeric_only to silence this warning.\n",
      "  imputed_X_train.corr()[\"Weekly_Sales\"]\n"
     ]
    },
    {
     "data": {
      "text/plain": [
       "Store          -0.085097\n",
       "Dept            0.148800\n",
       "Weekly_Sales    1.000000\n",
       "IsHoliday       0.012513\n",
       "Temperature    -0.006687\n",
       "Fuel_Price     -0.004374\n",
       "MarkDown1       0.024851\n",
       "MarkDown2       0.008700\n",
       "MarkDown3       0.019353\n",
       "MarkDown4       0.009805\n",
       "MarkDown5       0.026199\n",
       "CPI            -0.017222\n",
       "Unemployment   -0.022505\n",
       "Type           -0.182444\n",
       "Size            0.243949\n",
       "Month           0.028896\n",
       "Year           -0.009812\n",
       "WeekOfYear      0.028112\n",
       "Name: Weekly_Sales, dtype: float64"
      ]
     },
     "execution_count": 269,
     "metadata": {},
     "output_type": "execute_result"
    }
   ],
   "source": [
    "imputed_X_train.corr()[\"Weekly_Sales\"]"
   ]
  },
  {
   "cell_type": "code",
   "execution_count": 270,
   "id": "218ac3bf",
   "metadata": {},
   "outputs": [
    {
     "name": "stderr",
     "output_type": "stream",
     "text": [
      "C:\\Users\\MR\\AppData\\Local\\Temp\\ipykernel_29928\\3932876924.py:2: FutureWarning: The default value of numeric_only in DataFrame.corr is deprecated. In a future version, it will default to False. Select only valid columns or specify the value of numeric_only to silence this warning.\n",
      "  sns.heatmap(imputed_X_train.corr()[\"Weekly_Sales\"].to_frame(), annot=True, cmap= 'coolwarm')\n"
     ]
    },
    {
     "data": {
      "text/plain": [
       "<Axes: >"
      ]
     },
     "execution_count": 270,
     "metadata": {},
     "output_type": "execute_result"
    },
    {
     "data": {
      "image/png": "[encoded data removed]",
      "text/plain": [
       "<Figure size 400x600 with 2 Axes>"
      ]
     },
     "metadata": {},
     "output_type": "display_data"
    }
   ],
   "source": [
    "fig = plt.figure(figsize=(4,6))\n",
    "sns.heatmap(imputed_X_train.corr()[\"Weekly_Sales\"].to_frame(), annot=True, cmap= 'coolwarm')"
   ]
  },
  {
   "cell_type": "markdown",
   "id": "343f5230",
   "metadata": {},
   "source": [
    "### Calculate Mutual Information for non-linear relationship between features & target."
   ]
  },
  {
   "cell_type": "code",
   "execution_count": 271,
   "id": "7d7b7edf",
   "metadata": {},
   "outputs": [
    {
     "data": {
      "text/plain": [
       "Store                    int64\n",
       "Dept                     int64\n",
       "Date            datetime64[ns]\n",
       "Weekly_Sales           float64\n",
       "IsHoliday                int64\n",
       "Temperature            float64\n",
       "Fuel_Price             float64\n",
       "MarkDown1              float64\n",
       "MarkDown2              float64\n",
       "MarkDown3              float64\n",
       "MarkDown4              float64\n",
       "MarkDown5              float64\n",
       "CPI                    float64\n",
       "Unemployment           float64\n",
       "Type                     int32\n",
       "Size                     int64\n",
       "Month                    int64\n",
       "Year                     int64\n",
       "WeekOfYear               int64\n",
       "dtype: object"
      ]
     },
     "execution_count": 271,
     "metadata": {},
     "output_type": "execute_result"
    }
   ],
   "source": [
    "imputed_X_train.dtypes"
   ]
  },
  {
   "cell_type": "code",
   "execution_count": 272,
   "id": "b60da20a",
   "metadata": {},
   "outputs": [],
   "source": [
    "imputed_X_train[\"Type\"] = imputed_X_train[\"Type\"].astype('int64')"
   ]
  },
  {
   "cell_type": "code",
   "execution_count": 273,
   "id": "e31e85f9",
   "metadata": {},
   "outputs": [],
   "source": [
    "mi_imputed_X_train = imputed_X_train.drop(\"Date\", axis=1)"
   ]
  },
  {
   "cell_type": "code",
   "execution_count": 274,
   "id": "312986f4",
   "metadata": {},
   "outputs": [
    {
     "data": {
      "text/plain": [
       "Store            True\n",
       "Dept             True\n",
       "Weekly_Sales    False\n",
       "IsHoliday        True\n",
       "Temperature     False\n",
       "Fuel_Price      False\n",
       "MarkDown1       False\n",
       "MarkDown2       False\n",
       "MarkDown3       False\n",
       "MarkDown4       False\n",
       "MarkDown5       False\n",
       "CPI             False\n",
       "Unemployment    False\n",
       "Type             True\n",
       "Size             True\n",
       "Month            True\n",
       "Year             True\n",
       "WeekOfYear       True\n",
       "dtype: bool"
      ]
     },
     "execution_count": 274,
     "metadata": {},
     "output_type": "execute_result"
    }
   ],
   "source": [
    "# All discrete features should now have integer dtypes\n",
    "discrete_features = mi_imputed_X_train.dtypes == np.int64\n",
    "discrete_features"
   ]
  },
  {
   "cell_type": "code",
   "execution_count": 275,
   "id": "0aee1c86",
   "metadata": {},
   "outputs": [
    {
     "data": {
      "text/plain": [
       "Weekly_Sales    11.317074\n",
       "Dept             0.848417\n",
       "Store            0.166465\n",
       "Size             0.153391\n",
       "Type             0.064040\n",
       "Unemployment     0.055515\n",
       "CPI              0.019921\n",
       "Temperature      0.015354\n",
       "Fuel_Price       0.013056\n",
       "Year             0.011078\n",
       "MarkDown1        0.007629\n",
       "MarkDown5        0.006597\n",
       "Month            0.006226\n",
       "WeekOfYear       0.004473\n",
       "MarkDown2        0.002351\n",
       "IsHoliday        0.001295\n",
       "MarkDown4        0.001224\n",
       "MarkDown3        0.000000\n",
       "Name: MI Scores, dtype: float64"
      ]
     },
     "execution_count": 275,
     "metadata": {},
     "output_type": "execute_result"
    }
   ],
   "source": [
    "mi_scores = calculate_mi_scores(mi_imputed_X_train, y_train, discrete_features=discrete_features)\n",
    "mi_scores.sort_values(ascending=False)"
   ]
  },
  {
   "cell_type": "markdown",
   "id": "458c8856",
   "metadata": {},
   "source": [
    ">**Mutual Information showed results close to correlation. Both show that \"Dept\" & \"Size\" of the store affect the weekly sales more than other columns.**"
   ]
  },
  {
   "cell_type": "markdown",
   "id": "0f305b87",
   "metadata": {},
   "source": [
    "## 3. Save Final Data"
   ]
  },
  {
   "cell_type": "code",
   "execution_count": 277,
   "id": "5dc84650",
   "metadata": {},
   "outputs": [],
   "source": [
    "final_train_data = imputed_X_train.drop(\"Date\", axis=1)\n",
    "final_test_data = imputed_X_test.drop(\"Date\", axis=1)"
   ]
  },
  {
   "cell_type": "code",
   "execution_count": 278,
   "id": "cd98e651",
   "metadata": {},
   "outputs": [],
   "source": [
    "final_train_data.to_csv(TRAIN_DATA_PATH, index=False, header=True)\n",
    "final_test_data.to_csv(TEST_DATA_PATH, index=False, header=True)"
   ]
  }
 ],
 "metadata": {
  "kernelspec": {
   "display_name": "PyTorch-CUDA118",
   "language": "python",
   "name": "pytorch-cuda118"
  },
  "language_info": {
   "codemirror_mode": {
    "name": "ipython",
    "version": 3
   },
   "file_extension": ".py",
   "mimetype": "text/x-python",
   "name": "python",
   "nbconvert_exporter": "python",
   "pygments_lexer": "ipython3",
   "version": "3.8.16"
  }
 },
 "nbformat": 4,
 "nbformat_minor": 5
}
